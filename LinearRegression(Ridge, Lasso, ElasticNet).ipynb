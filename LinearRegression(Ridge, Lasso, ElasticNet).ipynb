{
  "nbformat": 4,
  "nbformat_minor": 0,
  "metadata": {
    "colab": {
      "provenance": [],
      "collapsed_sections": [],
      "authorship_tag": "ABX9TyNl70dAAAl9BMF+Jh9zkvZZ",
      "include_colab_link": true
    },
    "kernelspec": {
      "name": "python3",
      "display_name": "Python 3"
    },
    "language_info": {
      "name": "python"
    }
  },
  "cells": [
    {
      "cell_type": "markdown",
      "metadata": {
        "id": "view-in-github",
        "colab_type": "text"
      },
      "source": [
        "<a href=\"https://colab.research.google.com/github/hsieh2000/data-mining/blob/main/LinearRegression(Ridge%2C%20Lasso%2C%20ElasticNet).ipynb\" target=\"_parent\"><img src=\"https://colab.research.google.com/assets/colab-badge.svg\" alt=\"Open In Colab\"/></a>"
      ]
    },
    {
      "cell_type": "code",
      "source": [
        "import matplotlib.pyplot as plt\n",
        "import seaborn as sns\n",
        "import pandas as pd\n",
        "df = pd.read_csv(\"./HW3.csv\")"
      ],
      "metadata": {
        "id": "9WfuiVml5Ccd"
      },
      "execution_count": 58,
      "outputs": []
    },
    {
      "cell_type": "code",
      "source": [
        "df"
      ],
      "metadata": {
        "colab": {
          "base_uri": "https://localhost:8080/",
          "height": 424
        },
        "id": "Im4gXw0X5g57",
        "outputId": "ef311b99-3c24-4cf3-fc43-d46352378267"
      },
      "execution_count": 59,
      "outputs": [
        {
          "output_type": "execute_result",
          "data": {
            "text/plain": [
              "        Y       X1    X2     X3   X4     X5     X6    X7      X8  X9  X10  \\\n",
              "0    24.0  0.00632  18.0   2.31  0.0  0.538  6.575  65.2  4.0900   1  296   \n",
              "1    21.6  0.02731   0.0   7.07  0.0  0.469  6.421  78.9  4.9671   2  242   \n",
              "2    34.7  0.02729   0.0   7.07  0.0  0.469  7.185  61.1  4.9671   2  242   \n",
              "3    33.4  0.03237   0.0   2.18  0.0  0.458  6.998  45.8  6.0622   3  222   \n",
              "4    36.2  0.06905   0.0   2.18  0.0  0.458  7.147  54.2  6.0622   3  222   \n",
              "..    ...      ...   ...    ...  ...    ...    ...   ...     ...  ..  ...   \n",
              "501  22.4  0.06263   0.0  11.93  0.0  0.573  6.593  69.1  2.4786   1  273   \n",
              "502  20.6  0.04527   0.0  11.93  0.0  0.573  6.120  76.7  2.2875   1  273   \n",
              "503  23.9  0.06076   0.0  11.93  0.0  0.573  6.976  91.0  2.1675   1  273   \n",
              "504  22.0  0.10959   0.0  11.93  0.0  0.573  6.794  89.3  2.3889   1  273   \n",
              "505  11.9  0.04741   0.0  11.93  0.0  0.573  6.030   NaN  2.5050   1  273   \n",
              "\n",
              "      X11     X12   X13  \n",
              "0    15.3  396.90  4.98  \n",
              "1    17.8  396.90  9.14  \n",
              "2    17.8  392.83  4.03  \n",
              "3    18.7  394.63  2.94  \n",
              "4    18.7  396.90   NaN  \n",
              "..    ...     ...   ...  \n",
              "501  21.0  391.99   NaN  \n",
              "502  21.0  396.90  9.08  \n",
              "503  21.0  396.90  5.64  \n",
              "504  21.0  393.45  6.48  \n",
              "505  21.0  396.90  7.88  \n",
              "\n",
              "[506 rows x 14 columns]"
            ],
            "text/html": [
              "\n",
              "  <div id=\"df-f1c1d607-64e6-4812-9363-6996e86632ed\">\n",
              "    <div class=\"colab-df-container\">\n",
              "      <div>\n",
              "<style scoped>\n",
              "    .dataframe tbody tr th:only-of-type {\n",
              "        vertical-align: middle;\n",
              "    }\n",
              "\n",
              "    .dataframe tbody tr th {\n",
              "        vertical-align: top;\n",
              "    }\n",
              "\n",
              "    .dataframe thead th {\n",
              "        text-align: right;\n",
              "    }\n",
              "</style>\n",
              "<table border=\"1\" class=\"dataframe\">\n",
              "  <thead>\n",
              "    <tr style=\"text-align: right;\">\n",
              "      <th></th>\n",
              "      <th>Y</th>\n",
              "      <th>X1</th>\n",
              "      <th>X2</th>\n",
              "      <th>X3</th>\n",
              "      <th>X4</th>\n",
              "      <th>X5</th>\n",
              "      <th>X6</th>\n",
              "      <th>X7</th>\n",
              "      <th>X8</th>\n",
              "      <th>X9</th>\n",
              "      <th>X10</th>\n",
              "      <th>X11</th>\n",
              "      <th>X12</th>\n",
              "      <th>X13</th>\n",
              "    </tr>\n",
              "  </thead>\n",
              "  <tbody>\n",
              "    <tr>\n",
              "      <th>0</th>\n",
              "      <td>24.0</td>\n",
              "      <td>0.00632</td>\n",
              "      <td>18.0</td>\n",
              "      <td>2.31</td>\n",
              "      <td>0.0</td>\n",
              "      <td>0.538</td>\n",
              "      <td>6.575</td>\n",
              "      <td>65.2</td>\n",
              "      <td>4.0900</td>\n",
              "      <td>1</td>\n",
              "      <td>296</td>\n",
              "      <td>15.3</td>\n",
              "      <td>396.90</td>\n",
              "      <td>4.98</td>\n",
              "    </tr>\n",
              "    <tr>\n",
              "      <th>1</th>\n",
              "      <td>21.6</td>\n",
              "      <td>0.02731</td>\n",
              "      <td>0.0</td>\n",
              "      <td>7.07</td>\n",
              "      <td>0.0</td>\n",
              "      <td>0.469</td>\n",
              "      <td>6.421</td>\n",
              "      <td>78.9</td>\n",
              "      <td>4.9671</td>\n",
              "      <td>2</td>\n",
              "      <td>242</td>\n",
              "      <td>17.8</td>\n",
              "      <td>396.90</td>\n",
              "      <td>9.14</td>\n",
              "    </tr>\n",
              "    <tr>\n",
              "      <th>2</th>\n",
              "      <td>34.7</td>\n",
              "      <td>0.02729</td>\n",
              "      <td>0.0</td>\n",
              "      <td>7.07</td>\n",
              "      <td>0.0</td>\n",
              "      <td>0.469</td>\n",
              "      <td>7.185</td>\n",
              "      <td>61.1</td>\n",
              "      <td>4.9671</td>\n",
              "      <td>2</td>\n",
              "      <td>242</td>\n",
              "      <td>17.8</td>\n",
              "      <td>392.83</td>\n",
              "      <td>4.03</td>\n",
              "    </tr>\n",
              "    <tr>\n",
              "      <th>3</th>\n",
              "      <td>33.4</td>\n",
              "      <td>0.03237</td>\n",
              "      <td>0.0</td>\n",
              "      <td>2.18</td>\n",
              "      <td>0.0</td>\n",
              "      <td>0.458</td>\n",
              "      <td>6.998</td>\n",
              "      <td>45.8</td>\n",
              "      <td>6.0622</td>\n",
              "      <td>3</td>\n",
              "      <td>222</td>\n",
              "      <td>18.7</td>\n",
              "      <td>394.63</td>\n",
              "      <td>2.94</td>\n",
              "    </tr>\n",
              "    <tr>\n",
              "      <th>4</th>\n",
              "      <td>36.2</td>\n",
              "      <td>0.06905</td>\n",
              "      <td>0.0</td>\n",
              "      <td>2.18</td>\n",
              "      <td>0.0</td>\n",
              "      <td>0.458</td>\n",
              "      <td>7.147</td>\n",
              "      <td>54.2</td>\n",
              "      <td>6.0622</td>\n",
              "      <td>3</td>\n",
              "      <td>222</td>\n",
              "      <td>18.7</td>\n",
              "      <td>396.90</td>\n",
              "      <td>NaN</td>\n",
              "    </tr>\n",
              "    <tr>\n",
              "      <th>...</th>\n",
              "      <td>...</td>\n",
              "      <td>...</td>\n",
              "      <td>...</td>\n",
              "      <td>...</td>\n",
              "      <td>...</td>\n",
              "      <td>...</td>\n",
              "      <td>...</td>\n",
              "      <td>...</td>\n",
              "      <td>...</td>\n",
              "      <td>...</td>\n",
              "      <td>...</td>\n",
              "      <td>...</td>\n",
              "      <td>...</td>\n",
              "      <td>...</td>\n",
              "    </tr>\n",
              "    <tr>\n",
              "      <th>501</th>\n",
              "      <td>22.4</td>\n",
              "      <td>0.06263</td>\n",
              "      <td>0.0</td>\n",
              "      <td>11.93</td>\n",
              "      <td>0.0</td>\n",
              "      <td>0.573</td>\n",
              "      <td>6.593</td>\n",
              "      <td>69.1</td>\n",
              "      <td>2.4786</td>\n",
              "      <td>1</td>\n",
              "      <td>273</td>\n",
              "      <td>21.0</td>\n",
              "      <td>391.99</td>\n",
              "      <td>NaN</td>\n",
              "    </tr>\n",
              "    <tr>\n",
              "      <th>502</th>\n",
              "      <td>20.6</td>\n",
              "      <td>0.04527</td>\n",
              "      <td>0.0</td>\n",
              "      <td>11.93</td>\n",
              "      <td>0.0</td>\n",
              "      <td>0.573</td>\n",
              "      <td>6.120</td>\n",
              "      <td>76.7</td>\n",
              "      <td>2.2875</td>\n",
              "      <td>1</td>\n",
              "      <td>273</td>\n",
              "      <td>21.0</td>\n",
              "      <td>396.90</td>\n",
              "      <td>9.08</td>\n",
              "    </tr>\n",
              "    <tr>\n",
              "      <th>503</th>\n",
              "      <td>23.9</td>\n",
              "      <td>0.06076</td>\n",
              "      <td>0.0</td>\n",
              "      <td>11.93</td>\n",
              "      <td>0.0</td>\n",
              "      <td>0.573</td>\n",
              "      <td>6.976</td>\n",
              "      <td>91.0</td>\n",
              "      <td>2.1675</td>\n",
              "      <td>1</td>\n",
              "      <td>273</td>\n",
              "      <td>21.0</td>\n",
              "      <td>396.90</td>\n",
              "      <td>5.64</td>\n",
              "    </tr>\n",
              "    <tr>\n",
              "      <th>504</th>\n",
              "      <td>22.0</td>\n",
              "      <td>0.10959</td>\n",
              "      <td>0.0</td>\n",
              "      <td>11.93</td>\n",
              "      <td>0.0</td>\n",
              "      <td>0.573</td>\n",
              "      <td>6.794</td>\n",
              "      <td>89.3</td>\n",
              "      <td>2.3889</td>\n",
              "      <td>1</td>\n",
              "      <td>273</td>\n",
              "      <td>21.0</td>\n",
              "      <td>393.45</td>\n",
              "      <td>6.48</td>\n",
              "    </tr>\n",
              "    <tr>\n",
              "      <th>505</th>\n",
              "      <td>11.9</td>\n",
              "      <td>0.04741</td>\n",
              "      <td>0.0</td>\n",
              "      <td>11.93</td>\n",
              "      <td>0.0</td>\n",
              "      <td>0.573</td>\n",
              "      <td>6.030</td>\n",
              "      <td>NaN</td>\n",
              "      <td>2.5050</td>\n",
              "      <td>1</td>\n",
              "      <td>273</td>\n",
              "      <td>21.0</td>\n",
              "      <td>396.90</td>\n",
              "      <td>7.88</td>\n",
              "    </tr>\n",
              "  </tbody>\n",
              "</table>\n",
              "<p>506 rows × 14 columns</p>\n",
              "</div>\n",
              "      <button class=\"colab-df-convert\" onclick=\"convertToInteractive('df-f1c1d607-64e6-4812-9363-6996e86632ed')\"\n",
              "              title=\"Convert this dataframe to an interactive table.\"\n",
              "              style=\"display:none;\">\n",
              "        \n",
              "  <svg xmlns=\"http://www.w3.org/2000/svg\" height=\"24px\"viewBox=\"0 0 24 24\"\n",
              "       width=\"24px\">\n",
              "    <path d=\"M0 0h24v24H0V0z\" fill=\"none\"/>\n",
              "    <path d=\"M18.56 5.44l.94 2.06.94-2.06 2.06-.94-2.06-.94-.94-2.06-.94 2.06-2.06.94zm-11 1L8.5 8.5l.94-2.06 2.06-.94-2.06-.94L8.5 2.5l-.94 2.06-2.06.94zm10 10l.94 2.06.94-2.06 2.06-.94-2.06-.94-.94-2.06-.94 2.06-2.06.94z\"/><path d=\"M17.41 7.96l-1.37-1.37c-.4-.4-.92-.59-1.43-.59-.52 0-1.04.2-1.43.59L10.3 9.45l-7.72 7.72c-.78.78-.78 2.05 0 2.83L4 21.41c.39.39.9.59 1.41.59.51 0 1.02-.2 1.41-.59l7.78-7.78 2.81-2.81c.8-.78.8-2.07 0-2.86zM5.41 20L4 18.59l7.72-7.72 1.47 1.35L5.41 20z\"/>\n",
              "  </svg>\n",
              "      </button>\n",
              "      \n",
              "  <style>\n",
              "    .colab-df-container {\n",
              "      display:flex;\n",
              "      flex-wrap:wrap;\n",
              "      gap: 12px;\n",
              "    }\n",
              "\n",
              "    .colab-df-convert {\n",
              "      background-color: #E8F0FE;\n",
              "      border: none;\n",
              "      border-radius: 50%;\n",
              "      cursor: pointer;\n",
              "      display: none;\n",
              "      fill: #1967D2;\n",
              "      height: 32px;\n",
              "      padding: 0 0 0 0;\n",
              "      width: 32px;\n",
              "    }\n",
              "\n",
              "    .colab-df-convert:hover {\n",
              "      background-color: #E2EBFA;\n",
              "      box-shadow: 0px 1px 2px rgba(60, 64, 67, 0.3), 0px 1px 3px 1px rgba(60, 64, 67, 0.15);\n",
              "      fill: #174EA6;\n",
              "    }\n",
              "\n",
              "    [theme=dark] .colab-df-convert {\n",
              "      background-color: #3B4455;\n",
              "      fill: #D2E3FC;\n",
              "    }\n",
              "\n",
              "    [theme=dark] .colab-df-convert:hover {\n",
              "      background-color: #434B5C;\n",
              "      box-shadow: 0px 1px 3px 1px rgba(0, 0, 0, 0.15);\n",
              "      filter: drop-shadow(0px 1px 2px rgba(0, 0, 0, 0.3));\n",
              "      fill: #FFFFFF;\n",
              "    }\n",
              "  </style>\n",
              "\n",
              "      <script>\n",
              "        const buttonEl =\n",
              "          document.querySelector('#df-f1c1d607-64e6-4812-9363-6996e86632ed button.colab-df-convert');\n",
              "        buttonEl.style.display =\n",
              "          google.colab.kernel.accessAllowed ? 'block' : 'none';\n",
              "\n",
              "        async function convertToInteractive(key) {\n",
              "          const element = document.querySelector('#df-f1c1d607-64e6-4812-9363-6996e86632ed');\n",
              "          const dataTable =\n",
              "            await google.colab.kernel.invokeFunction('convertToInteractive',\n",
              "                                                     [key], {});\n",
              "          if (!dataTable) return;\n",
              "\n",
              "          const docLinkHtml = 'Like what you see? Visit the ' +\n",
              "            '<a target=\"_blank\" href=https://colab.research.google.com/notebooks/data_table.ipynb>data table notebook</a>'\n",
              "            + ' to learn more about interactive tables.';\n",
              "          element.innerHTML = '';\n",
              "          dataTable['output_type'] = 'display_data';\n",
              "          await google.colab.output.renderOutput(dataTable, element);\n",
              "          const docLink = document.createElement('div');\n",
              "          docLink.innerHTML = docLinkHtml;\n",
              "          element.appendChild(docLink);\n",
              "        }\n",
              "      </script>\n",
              "    </div>\n",
              "  </div>\n",
              "  "
            ]
          },
          "metadata": {},
          "execution_count": 59
        }
      ]
    },
    {
      "cell_type": "markdown",
      "source": [
        "fill na by each column's median"
      ],
      "metadata": {
        "id": "v7Th0CUWA5uz"
      }
    },
    {
      "cell_type": "code",
      "source": [
        "df.isna().sum()"
      ],
      "metadata": {
        "colab": {
          "base_uri": "https://localhost:8080/"
        },
        "id": "CJDYGZhj_JiE",
        "outputId": "9c3a3990-99aa-42fd-faf3-9d25c4b45e10"
      },
      "execution_count": 60,
      "outputs": [
        {
          "output_type": "execute_result",
          "data": {
            "text/plain": [
              "Y       0\n",
              "X1     20\n",
              "X2     20\n",
              "X3     20\n",
              "X4     20\n",
              "X5      0\n",
              "X6      0\n",
              "X7     20\n",
              "X8      0\n",
              "X9      0\n",
              "X10     0\n",
              "X11     0\n",
              "X12     0\n",
              "X13    20\n",
              "dtype: int64"
            ]
          },
          "metadata": {},
          "execution_count": 60
        }
      ]
    },
    {
      "cell_type": "code",
      "source": [
        "for i in df.columns:\n",
        "  df[i] = df[i].fillna(df[i].median())"
      ],
      "metadata": {
        "id": "N0KxHXaE_iwt"
      },
      "execution_count": 61,
      "outputs": []
    },
    {
      "cell_type": "code",
      "source": [
        "df.isna().sum()"
      ],
      "metadata": {
        "colab": {
          "base_uri": "https://localhost:8080/"
        },
        "id": "yJP8LqBsAYTN",
        "outputId": "25e9614b-4dd8-424f-b665-54076d1935f8"
      },
      "execution_count": 62,
      "outputs": [
        {
          "output_type": "execute_result",
          "data": {
            "text/plain": [
              "Y      0\n",
              "X1     0\n",
              "X2     0\n",
              "X3     0\n",
              "X4     0\n",
              "X5     0\n",
              "X6     0\n",
              "X7     0\n",
              "X8     0\n",
              "X9     0\n",
              "X10    0\n",
              "X11    0\n",
              "X12    0\n",
              "X13    0\n",
              "dtype: int64"
            ]
          },
          "metadata": {},
          "execution_count": 62
        }
      ]
    },
    {
      "cell_type": "markdown",
      "source": [
        "split train set and test set"
      ],
      "metadata": {
        "id": "hp490k8NHBeC"
      }
    },
    {
      "cell_type": "code",
      "source": [
        "data_y = df['Y']\n",
        "data_X = df.iloc[:,1:]"
      ],
      "metadata": {
        "id": "o-UER0hG5iii"
      },
      "execution_count": 63,
      "outputs": []
    },
    {
      "cell_type": "code",
      "source": [
        "from sklearn.model_selection import train_test_split\n",
        "X_train, X_test, y_train, y_test = train_test_split(data_X, data_y, random_state=8, test_size=0.3)\n"
      ],
      "metadata": {
        "id": "8agmsvy-61KB"
      },
      "execution_count": 64,
      "outputs": []
    },
    {
      "cell_type": "code",
      "source": [
        "from sklearn.linear_model import LinearRegression\n",
        "from sklearn.metrics import mean_squared_error\n",
        "from sklearn.metrics import r2_score\n",
        "\n",
        "slr = LinearRegression()\n",
        "slr.fit(X_train, y_train)\n",
        "print(slr.coef_)\n",
        "y_train_pred = slr.predict(X_train)\n",
        "y_test_pred = slr.predict(X_test)\n",
        "\n",
        "print(\"MSE train: %.3f, test: %.3f\" % (\n",
        "    mean_squared_error(y_train, y_train_pred),\n",
        "    mean_squared_error(y_test, y_test_pred)\n",
        "    ))\n",
        "print(\"R^2 train: %.3f, test: %.3f\" %(\n",
        "    r2_score(y_train, y_train_pred),\n",
        "    r2_score(y_test, y_test_pred)\n",
        "    ))\n"
      ],
      "metadata": {
        "colab": {
          "base_uri": "https://localhost:8080/"
        },
        "id": "wCcZjFNd6KRu",
        "outputId": "50cb6c34-20ca-4fb9-900b-bb7e2f2d88e2"
      },
      "execution_count": 65,
      "outputs": [
        {
          "output_type": "stream",
          "name": "stdout",
          "text": [
            "[-1.08836140e-01  4.63549951e-02 -4.34556930e-02  3.06091424e+00\n",
            " -1.11657320e+01  4.16657565e+00 -2.34848196e-02 -1.43299082e+00\n",
            "  2.27231744e-01 -9.03471778e-03 -9.10839941e-01  1.05114375e-02\n",
            " -5.00091011e-01]\n",
            "MSE train: 22.127, test: 24.649\n",
            "R^2 train: 0.742, test: 0.697\n"
          ]
        }
      ]
    },
    {
      "cell_type": "markdown",
      "source": [
        "Ridge"
      ],
      "metadata": {
        "id": "InmyiyYMGteB"
      }
    },
    {
      "cell_type": "code",
      "source": [
        "# grid searching to find the optimal alpha\n",
        "from sklearn.linear_model import RidgeCV\n",
        "rg = RidgeCV(alphas=(10, 1.0, 0.01, 0.005, 0.0025))\n",
        "rg.fit(X_train, y_train)\n",
        "rg.alpha_"
      ],
      "metadata": {
        "colab": {
          "base_uri": "https://localhost:8080/"
        },
        "id": "LftmG_t7FqOh",
        "outputId": "17fb6195-ee07-4ca6-f20f-8d54ff54b8ff"
      },
      "execution_count": 66,
      "outputs": [
        {
          "output_type": "execute_result",
          "data": {
            "text/plain": [
              "0.01"
            ]
          },
          "metadata": {},
          "execution_count": 66
        }
      ]
    },
    {
      "cell_type": "code",
      "source": [
        "from sklearn.linear_model import Ridge\n",
        "\n",
        "ridge = Ridge(alpha=0.01).fit(X_train, y_train)\n",
        "print(ridge.coef_)\n",
        "y_train_pred = ridge.predict(X_train)\n",
        "y_test_pred = ridge.predict(X_test)\n",
        "\n",
        "print(\"MSE train: %.3f, test: %.3f\" % (\n",
        "    mean_squared_error(y_train, y_train_pred),\n",
        "    mean_squared_error(y_test, y_test_pred)\n",
        "    ))\n",
        "print(\"R^2 train: %.3f, test: %.3f\" %(\n",
        "    r2_score(y_train, y_train_pred),\n",
        "    r2_score(y_test, y_test_pred)\n",
        "    ))\n"
      ],
      "metadata": {
        "colab": {
          "base_uri": "https://localhost:8080/"
        },
        "id": "mLhATBNqGZAD",
        "outputId": "92c7aeb4-3673-44c4-b775-b76ebbec9531"
      },
      "execution_count": 67,
      "outputs": [
        {
          "output_type": "stream",
          "name": "stdout",
          "text": [
            "[-1.08789294e-01  4.63702071e-02 -4.37685695e-02  3.05901648e+00\n",
            " -1.10637911e+01  4.16736748e+00 -2.35484625e-02 -1.43119226e+00\n",
            "  2.26981454e-01 -9.04423833e-03 -9.09846340e-01  1.05139695e-02\n",
            " -5.00315362e-01]\n",
            "MSE train: 22.128, test: 24.661\n",
            "R^2 train: 0.742, test: 0.696\n"
          ]
        }
      ]
    },
    {
      "cell_type": "markdown",
      "source": [
        "Lasso"
      ],
      "metadata": {
        "id": "n9V4luvBGr2h"
      }
    },
    {
      "cell_type": "code",
      "source": [
        "# grid searching to find the optimal alpha\n",
        "from sklearn.linear_model import LassoCV\n",
        "rg = LassoCV(alphas=(10, 1.0, 0.01, 0.005, 0.0025))\n",
        "rg.fit(X_train, y_train)\n",
        "rg.alpha_"
      ],
      "metadata": {
        "colab": {
          "base_uri": "https://localhost:8080/"
        },
        "id": "d9jLyGRLH3gZ",
        "outputId": "7c70f1b5-1dc1-4939-ffe6-07e79e34a3b3"
      },
      "execution_count": 72,
      "outputs": [
        {
          "output_type": "execute_result",
          "data": {
            "text/plain": [
              "0.0025"
            ]
          },
          "metadata": {},
          "execution_count": 72
        }
      ]
    },
    {
      "cell_type": "code",
      "source": [
        "# ignore certain feature might cause the decrease of the accuracy\n",
        "from sklearn.linear_model import Lasso\n",
        "\n",
        "lasso = Lasso(alpha=1).fit(X_train, y_train)\n",
        "print(lasso.coef_)\n",
        "y_train_pred = lasso.predict(X_train)\n",
        "y_test_pred = lasso.predict(X_test)\n",
        "\n",
        "print(\"MSE train: %.3f, test: %.3f\" % (\n",
        "    mean_squared_error(y_train, y_train_pred),\n",
        "    mean_squared_error(y_test, y_test_pred)\n",
        "    ))\n",
        "print(\"R^2 train: %.3f, test: %.3f\" %(\n",
        "    r2_score(y_train, y_train_pred),\n",
        "    r2_score(y_test, y_test_pred)\n",
        "    ))\n"
      ],
      "metadata": {
        "colab": {
          "base_uri": "https://localhost:8080/"
        },
        "id": "Zj7qrhzS6LgF",
        "outputId": "d9678dd3-f8ae-40f2-e07f-292621f4b377"
      },
      "execution_count": 74,
      "outputs": [
        {
          "output_type": "stream",
          "name": "stdout",
          "text": [
            "[-0.07873115  0.05498433 -0.00144787  0.         -0.          1.13615143\n",
            " -0.         -0.71211671  0.21472842 -0.01269272 -0.78268974  0.00836169\n",
            " -0.71423644]\n",
            "MSE train: 26.782, test: 30.764\n",
            "R^2 train: 0.688, test: 0.621\n"
          ]
        }
      ]
    },
    {
      "cell_type": "code",
      "source": [
        "# using the optimal alpha to train the model\n",
        "from sklearn.linear_model import Lasso\n",
        "\n",
        "lasso = Lasso(alpha=1).fit(X_train, y_train)\n",
        "print(lasso.coef_)\n",
        "y_train_pred = lasso.predict(X_train)\n",
        "y_test_pred = lasso.predict(X_test)\n",
        "\n",
        "print(\"MSE train: %.3f, test: %.3f\" % (\n",
        "    mean_squared_error(y_train, y_train_pred),\n",
        "    mean_squared_error(y_test, y_test_pred)\n",
        "    ))\n",
        "print(\"R^2 train: %.3f, test: %.3f\" %(\n",
        "    r2_score(y_train, y_train_pred),\n",
        "    r2_score(y_test, y_test_pred)\n",
        "    ))"
      ],
      "metadata": {
        "id": "sDkIlihYNGyK"
      },
      "execution_count": null,
      "outputs": []
    },
    {
      "cell_type": "markdown",
      "source": [
        "Elastic Net"
      ],
      "metadata": {
        "id": "fMOkonp4HaDg"
      }
    },
    {
      "cell_type": "code",
      "source": [
        "# grid searching to find the optimal alpha\n",
        "from sklearn.linear_model import ElasticNetCV\n",
        "rg = ElasticNetCV(alphas=(10, 1.0, 0.01, 0.005, 0.0025))\n",
        "rg.fit(X_train, y_train)\n",
        "rg.alpha_"
      ],
      "metadata": {
        "colab": {
          "base_uri": "https://localhost:8080/"
        },
        "id": "19SmsvtQIKX1",
        "outputId": "d3c4dcb5-0c37-48e8-8ef8-0a7ed908248c"
      },
      "execution_count": 73,
      "outputs": [
        {
          "output_type": "execute_result",
          "data": {
            "text/plain": [
              "0.0025"
            ]
          },
          "metadata": {},
          "execution_count": 73
        }
      ]
    },
    {
      "cell_type": "code",
      "source": [
        "# l1_ratio = 1 is LASSO\n",
        "from sklearn.linear_model import ElasticNet\n",
        "\n",
        "elanet = ElasticNet(alpha=0.0025, l1_ratio = 0.5).fit(X_train, y_train)\n",
        "print(elanet.coef_)\n",
        "y_train_pred = elanet.predict(X_train)\n",
        "y_test_pred = elanet.predict(X_test)\n",
        "\n",
        "print(\"MSE train: %.3f, test: %.3f\" % (\n",
        "    mean_squared_error(y_train, y_train_pred),\n",
        "    mean_squared_error(y_test, y_test_pred)\n",
        "    ))\n",
        "print(\"R^2 train: %.3f, test: %.3f\" %(\n",
        "    r2_score(y_train, y_train_pred),\n",
        "    r2_score(y_test, y_test_pred)\n",
        "    ))\n"
      ],
      "metadata": {
        "colab": {
          "base_uri": "https://localhost:8080/"
        },
        "id": "ozcmOipnFmp_",
        "outputId": "7b4c684c-1aba-442e-dc6a-20f418adbe07"
      },
      "execution_count": 79,
      "outputs": [
        {
          "output_type": "stream",
          "name": "stdout",
          "text": [
            "[-0.10724561  0.04691544 -0.05407454  2.96313684 -7.63778049  4.18580566\n",
            " -0.02560745 -1.37039101  0.21894274 -0.00938593 -0.87720062  0.01059688\n",
            " -0.50839017]\n",
            "MSE train: 22.166, test: 25.115\n",
            "R^2 train: 0.741, test: 0.691\n"
          ]
        }
      ]
    },
    {
      "cell_type": "code",
      "source": [],
      "metadata": {
        "id": "SJ7O2EJZIU5X"
      },
      "execution_count": null,
      "outputs": []
    }
  ]
}